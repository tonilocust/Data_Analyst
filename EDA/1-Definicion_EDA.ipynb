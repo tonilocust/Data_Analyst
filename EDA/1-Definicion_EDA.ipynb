{
 "cells": [
  {
   "cell_type": "markdown",
   "metadata": {},
   "source": [
    "![imagen](./img/ejercicios.png)"
   ]
  },
  {
   "cell_type": "markdown",
   "metadata": {},
   "source": [
    "# INFORMACIÓN DEL PROYECTO"
   ]
  },
  {
   "attachments": {},
   "cell_type": "markdown",
   "metadata": {},
   "source": [
    "### **Análisis vinos de España**\n",
    "\n",
    "#### Estudio acerca de los distintos vinos de España por sus diferentes regiones.\n",
    "\n",
    "#### Objetivos :\n",
    "      - Tratare de analizar si hay relacion directa entre el precio de venta (PVP) y la calidad del vino.\n",
    "      - Localizar mediante un estudio estadistico en que region se encuentran los mejores vinos.\n",
    "      - Analizar si hay relacion entre el año y la valoracion.\n",
    "      - Buscar las mejores marcas de vino en base al precio y la valoracion."
   ]
  },
  {
   "cell_type": "markdown",
   "metadata": {},
   "source": [
    "## OBTENCIÓN DE LOS DATOS"
   ]
  },
  {
   "attachments": {},
   "cell_type": "markdown",
   "metadata": {},
   "source": [
    "#### **Datos descargados de esta fuente: https://www.kaggle.com/datasets/fedesoriano/spanish-wine-quality-dataset?resource=download**\n",
    "\n",
    "Estos datos en formato csv los visualizamos con ayuda de pandas. Nos muestran aprox 7500 vinos (sin pasar filtrado aun) donde podemos ver datos relevantes (marca, año, valoracion...). Estos datos mas adelante los usaremos para hacer distintos estudios estadisticos que nos puedan indicar si hay alguna relacion entre ellos para las hipotesis planteadas"
   ]
  },
  {
   "cell_type": "code",
   "execution_count": 1,
   "metadata": {},
   "outputs": [],
   "source": [
    "import pandas as pd"
   ]
  },
  {
   "cell_type": "code",
   "execution_count": 2,
   "metadata": {},
   "outputs": [],
   "source": [
    "vinos = pd.read_csv('C:/Users/delac/Desktop/Bootcamp/EDA/wines_SPA.csv')"
   ]
  },
  {
   "cell_type": "code",
   "execution_count": 3,
   "metadata": {},
   "outputs": [
    {
     "data": {
      "text/html": [
       "<div>\n",
       "<style scoped>\n",
       "    .dataframe tbody tr th:only-of-type {\n",
       "        vertical-align: middle;\n",
       "    }\n",
       "\n",
       "    .dataframe tbody tr th {\n",
       "        vertical-align: top;\n",
       "    }\n",
       "\n",
       "    .dataframe thead th {\n",
       "        text-align: right;\n",
       "    }\n",
       "</style>\n",
       "<table border=\"1\" class=\"dataframe\">\n",
       "  <thead>\n",
       "    <tr style=\"text-align: right;\">\n",
       "      <th></th>\n",
       "      <th>winery</th>\n",
       "      <th>wine</th>\n",
       "      <th>year</th>\n",
       "      <th>rating</th>\n",
       "      <th>num_reviews</th>\n",
       "      <th>country</th>\n",
       "      <th>region</th>\n",
       "      <th>price</th>\n",
       "      <th>type</th>\n",
       "      <th>body</th>\n",
       "      <th>acidity</th>\n",
       "    </tr>\n",
       "  </thead>\n",
       "  <tbody>\n",
       "    <tr>\n",
       "      <th>0</th>\n",
       "      <td>Teso La Monja</td>\n",
       "      <td>Tinto</td>\n",
       "      <td>2013</td>\n",
       "      <td>4.9</td>\n",
       "      <td>58</td>\n",
       "      <td>Espana</td>\n",
       "      <td>Toro</td>\n",
       "      <td>995.00</td>\n",
       "      <td>Toro Red</td>\n",
       "      <td>5.0</td>\n",
       "      <td>3.0</td>\n",
       "    </tr>\n",
       "    <tr>\n",
       "      <th>1</th>\n",
       "      <td>Artadi</td>\n",
       "      <td>Vina El Pison</td>\n",
       "      <td>2018</td>\n",
       "      <td>4.9</td>\n",
       "      <td>31</td>\n",
       "      <td>Espana</td>\n",
       "      <td>Vino de Espana</td>\n",
       "      <td>313.50</td>\n",
       "      <td>Tempranillo</td>\n",
       "      <td>4.0</td>\n",
       "      <td>2.0</td>\n",
       "    </tr>\n",
       "    <tr>\n",
       "      <th>2</th>\n",
       "      <td>Vega Sicilia</td>\n",
       "      <td>Unico</td>\n",
       "      <td>2009</td>\n",
       "      <td>4.8</td>\n",
       "      <td>1793</td>\n",
       "      <td>Espana</td>\n",
       "      <td>Ribera del Duero</td>\n",
       "      <td>324.95</td>\n",
       "      <td>Ribera Del Duero Red</td>\n",
       "      <td>5.0</td>\n",
       "      <td>3.0</td>\n",
       "    </tr>\n",
       "    <tr>\n",
       "      <th>3</th>\n",
       "      <td>Vega Sicilia</td>\n",
       "      <td>Unico</td>\n",
       "      <td>1999</td>\n",
       "      <td>4.8</td>\n",
       "      <td>1705</td>\n",
       "      <td>Espana</td>\n",
       "      <td>Ribera del Duero</td>\n",
       "      <td>692.96</td>\n",
       "      <td>Ribera Del Duero Red</td>\n",
       "      <td>5.0</td>\n",
       "      <td>3.0</td>\n",
       "    </tr>\n",
       "    <tr>\n",
       "      <th>4</th>\n",
       "      <td>Vega Sicilia</td>\n",
       "      <td>Unico</td>\n",
       "      <td>1996</td>\n",
       "      <td>4.8</td>\n",
       "      <td>1309</td>\n",
       "      <td>Espana</td>\n",
       "      <td>Ribera del Duero</td>\n",
       "      <td>778.06</td>\n",
       "      <td>Ribera Del Duero Red</td>\n",
       "      <td>5.0</td>\n",
       "      <td>3.0</td>\n",
       "    </tr>\n",
       "  </tbody>\n",
       "</table>\n",
       "</div>"
      ],
      "text/plain": [
       "          winery           wine  year  rating  num_reviews country  \\\n",
       "0  Teso La Monja          Tinto  2013     4.9           58  Espana   \n",
       "1         Artadi  Vina El Pison  2018     4.9           31  Espana   \n",
       "2   Vega Sicilia          Unico  2009     4.8         1793  Espana   \n",
       "3   Vega Sicilia          Unico  1999     4.8         1705  Espana   \n",
       "4   Vega Sicilia          Unico  1996     4.8         1309  Espana   \n",
       "\n",
       "             region   price                  type  body  acidity  \n",
       "0              Toro  995.00              Toro Red   5.0      3.0  \n",
       "1    Vino de Espana  313.50           Tempranillo   4.0      2.0  \n",
       "2  Ribera del Duero  324.95  Ribera Del Duero Red   5.0      3.0  \n",
       "3  Ribera del Duero  692.96  Ribera Del Duero Red   5.0      3.0  \n",
       "4  Ribera del Duero  778.06  Ribera Del Duero Red   5.0      3.0  "
      ]
     },
     "execution_count": 3,
     "metadata": {},
     "output_type": "execute_result"
    }
   ],
   "source": [
    "vinos.head()"
   ]
  },
  {
   "cell_type": "code",
   "execution_count": 36,
   "metadata": {},
   "outputs": [
    {
     "data": {
      "text/plain": [
       "Index(['winery', 'wine', 'year', 'rating', 'num_reviews', 'country', 'region',\n",
       "       'price', 'type', 'body', 'acidity'],\n",
       "      dtype='object')"
      ]
     },
     "execution_count": 36,
     "metadata": {},
     "output_type": "execute_result"
    }
   ],
   "source": [
    "vinos.columns"
   ]
  }
 ],
 "metadata": {
  "kernelspec": {
   "display_name": "Python 3",
   "language": "python",
   "name": "python3"
  },
  "language_info": {
   "codemirror_mode": {
    "name": "ipython",
    "version": 3
   },
   "file_extension": ".py",
   "mimetype": "text/x-python",
   "name": "python",
   "nbconvert_exporter": "python",
   "pygments_lexer": "ipython3",
   "version": "3.10.9"
  },
  "orig_nbformat": 4,
  "vscode": {
   "interpreter": {
    "hash": "b04427affc440ea3a2193f6f964c556b8d8d79743c9079810bebb7e96b934e59"
   }
  }
 },
 "nbformat": 4,
 "nbformat_minor": 2
}
